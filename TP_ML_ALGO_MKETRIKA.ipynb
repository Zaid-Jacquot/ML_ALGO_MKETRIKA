{
 "cells": [
  {
   "cell_type": "markdown",
   "id": "89cb07d9-571b-4522-9912-f4acd22500db",
   "metadata": {},
   "source": [
    "# PARTIE A : IMPLEMENTATION DU JEU"
   ]
  },
  {
   "cell_type": "code",
   "execution_count": 171,
   "id": "134c3893-6e11-4398-8c52-99a71777360c",
   "metadata": {},
   "outputs": [
    {
     "name": "stdout",
     "output_type": "stream",
     "text": [
      "Enter la dimension (inférieur à 5): "
     ]
    },
    {
     "name": "stdin",
     "output_type": "stream",
     "text": [
      " 6\n"
     ]
    },
    {
     "name": "stdout",
     "output_type": "stream",
     "text": [
      "Choisir votre nombre de deplacement : "
     ]
    },
    {
     "name": "stdin",
     "output_type": "stream",
     "text": [
      " 2\n"
     ]
    },
    {
     "name": "stdout",
     "output_type": "stream",
     "text": [
      "Enter la dimension (inférieur à 5): "
     ]
    },
    {
     "name": "stdin",
     "output_type": "stream",
     "text": [
      " 5\n"
     ]
    },
    {
     "name": "stdout",
     "output_type": "stream",
     "text": [
      "Choisir votre nombre de deplacement : "
     ]
    },
    {
     "name": "stdin",
     "output_type": "stream",
     "text": [
      " 3\n"
     ]
    }
   ],
   "source": [
    "import numpy as np\n",
    "import pygame\n",
    "import heapq\n",
    "\n",
    "dim = 0\n",
    "k = 0\n",
    "while dim == 0 or dim > 5 or k == 0 :\n",
    "    print(\"Enter la dimension (inférieur à 5): \", end=\"\")  # end=\"\" empêche le saut de ligne automatique\n",
    "    # Lire l'entrée utilisateur (équivalent de scanf)\n",
    "    dim = int(input())\n",
    "    print(\"Choisir votre nombre de deplacement : \", end=\"\")\n",
    "    k = int(input())\n",
    "\n",
    "# Creer un matrice aleatoire\n",
    "numbers = np.random.choice(np.arange(1,101), size=dim**2, replace=False)\n",
    "\n",
    "# Reshaper les nombres mélangés en une matrice 3x3\n",
    "matrix = numbers.reshape(dim, dim)\n",
    "\n",
    "# Choisir une position aléatoire pour placer un 0\n",
    "row, col = np.random.randint(0, dim), np.random.randint(0, dim)\n",
    "matrix[row, col] = 0\n",
    "\n",
    "# Recherche la position vide\n",
    "p = np.where(matrix == 0)\n",
    "lig_vide = p[0][0]\n",
    "col_vide = p[1][0]\n",
    "\n",
    "#print(matrix)\n",
    "#print(\"ligne : \",lig_vide)\n",
    "#print(\"colonne : \",col_vide)\n",
    "#print(\"k :\", k)"
   ]
  },
  {
   "cell_type": "markdown",
   "id": "878c9abe-33f8-469a-8e52-ca9cbea76bab",
   "metadata": {},
   "source": [
    "# PARTIE B: Recherche des successeurs de l'element vide à base de l'Algorithme A*"
   ]
  },
  {
   "cell_type": "code",
   "execution_count": 173,
   "id": "59dd1e9d-8bd5-4372-ba1f-5ae466362934",
   "metadata": {},
   "outputs": [
    {
     "name": "stdout",
     "output_type": "stream",
     "text": [
      "Successeurs de (1, 4) : [(0, 4), (2, 4), (1, 3)]\n"
     ]
    }
   ],
   "source": [
    "def get_successors(noeud, matrix_size):    \n",
    "    x, y = noeud\n",
    "    successors = []\n",
    "    \n",
    "    # Déplacements possibles : 8 directions (haut, bas, gauche, droite, diagonales)\n",
    "    mouvements = [\n",
    "        (-1, 0), (1, 0),  # Haut, Bas\n",
    "        (0, -1), (0, 1),  # Gauche, Droite        \n",
    "    ]\n",
    "    \n",
    "    for dx, dy in mouvements:\n",
    "        nx, ny = x + dx, y + dy\n",
    "        \n",
    "        # Vérifier que la nouvelle position est dans les limites de la matrice\n",
    "        if 0 <= nx < matrix_size and 0 <= ny < matrix_size:\n",
    "            successors.append((nx, ny))\n",
    "    \n",
    "    return successors\n",
    "\n",
    "# Exemple d'utilisation\n",
    "dim_matrix = dim  # Taille de la matrice 5x5\n",
    "noeud_courant = (lig_vide, col_vide)  # Position actuelle\n",
    "successeurs = get_successors(noeud_courant, dim_matrix)\n",
    "\n",
    "print(f\"Successeurs de {noeud_courant} : {successeurs}\")"
   ]
  },
  {
   "cell_type": "markdown",
   "id": "5102bfe7-2459-4958-9693-d335ccdaf5ad",
   "metadata": {},
   "source": [
    "# EVENEMENT D'ECOUTE DE L'UTILISATEUR\n",
    "# Partie jouable par l'utilisateur"
   ]
  },
  {
   "cell_type": "code",
   "execution_count": 175,
   "id": "3652a69c-8abc-4ddb-83d7-ea555a5aa053",
   "metadata": {},
   "outputs": [],
   "source": [
    "# pygame setup\n",
    "pygame.init()\n",
    "\n",
    "screen = pygame.display.set_mode((1020, 620))\n",
    "clock = pygame.time.Clock()\n",
    "running = True\n",
    "\n",
    "LARGEUR, HAUTEUR = 1020, 620\n",
    "\n",
    "CELLULE_LARGEUR = LARGEUR // matrix.shape[1]\n",
    "CELLULE_HAUTEUR = HAUTEUR // matrix.shape[0]\n",
    "\n",
    "NOIR = (0, 0, 0)\n",
    "BLANC = (255, 255, 255)\n",
    "ROUGE = (0, 255, 0)  # Couleur rouge pour la cellule sélectionnée\n",
    "\n",
    "\n",
    "# Changer la couleur de la cellule sélectionnée\n",
    "cellule_colorier = (lig_vide, col_vide)\n",
    "nouvelle_couleur = ROUGE\n",
    "\n",
    "police = pygame.font.Font(None, 36)\n",
    "\n",
    "while running:\n",
    "    # poll for events\n",
    "    for event in pygame.event.get():\n",
    "        if event.type == pygame.QUIT:\n",
    "            running = False    \n",
    "        # Vérifier si une touche est enfoncée\n",
    "        elif event.type == pygame.KEYDOWN:\n",
    "            if (event.key == pygame.K_UP) and lig_vide > 0:    \n",
    "                i1, j1 = lig_vide, col_vide \n",
    "                i2, j2 = lig_vide-1, col_vide\n",
    "                matrix[i1, j1], matrix[i2, j2] = matrix[i2, j2], matrix[i1, j1]                \n",
    "                lig_vide -= 1                   \n",
    "            if (event.key == pygame.K_DOWN) and lig_vide < dim - 1:   \n",
    "                i1, j1 = lig_vide, col_vide \n",
    "                i2, j2 = lig_vide+1, col_vide\n",
    "                matrix[i1, j1], matrix[i2, j2] = matrix[i2, j2], matrix[i1, j1]\n",
    "                lig_vide += 1                   \n",
    "            if (event.key == pygame.K_LEFT) and col_vide > 0:   \n",
    "                i1, j1 = lig_vide, col_vide \n",
    "                i2, j2 = lig_vide, col_vide-1\n",
    "                matrix[i1, j1], matrix[i2, j2] = matrix[i2, j2], matrix[i1, j1]\n",
    "                col_vide -= 1                   \n",
    "            if (event.key == pygame.K_RIGHT) and col_vide < dim - 1:       \n",
    "                i1, j1 = lig_vide, col_vide \n",
    "                i2, j2 = lig_vide, col_vide+1\n",
    "                matrix[i1, j1], matrix[i2, j2] = matrix[i2, j2], matrix[i1, j1]\n",
    "                col_vide += 1                   \n",
    "\n",
    "            # Mettre à jour la cellule colorée\n",
    "            cellule_colorier = (lig_vide, col_vide)\n",
    "\n",
    "    # Remplissage de l'écran\n",
    "    screen.fill(NOIR)\n",
    "\n",
    "    # Dessin du tableau\n",
    "    for i in range(matrix.shape[0]):  # Parcourt les lignes\n",
    "        for j in range(matrix.shape[1]):  # Parcourt les colonnes\n",
    "            # Coordonnées du coin supérieur gauche de la cellule\n",
    "            x = j * CELLULE_LARGEUR\n",
    "            y = i * CELLULE_HAUTEUR\n",
    "\n",
    "            # Changer la couleur de la cellule sélectionnée\n",
    "            if (i, j) == cellule_colorier:\n",
    "                color = nouvelle_couleur\n",
    "                text_color = NOIR  # Texte en noir pour la cellule rouge\n",
    "            else:\n",
    "                color = BLANC\n",
    "                text_color = NOIR  # Texte en noir pour toutes les autres cellules\n",
    "\n",
    "            # Rectangle pour chaque cellule (fond de la cellule)\n",
    "            pygame.draw.rect(screen, color, (x, y, CELLULE_LARGEUR, CELLULE_HAUTEUR))\n",
    "\n",
    "            # Rectangle pour le contour des cellules (en blanc)\n",
    "            pygame.draw.rect(screen, BLANC, (x, y, CELLULE_LARGEUR, CELLULE_HAUTEUR), 1)\n",
    "\n",
    "            # Texte à afficher dans la cellule\n",
    "            texte = police.render(str(matrix[i, j]), True, text_color)\n",
    "            texte_rect = texte.get_rect(center=(x + CELLULE_LARGEUR // 2, y + CELLULE_HAUTEUR // 2))\n",
    "            screen.blit(texte, texte_rect)\n",
    "\n",
    "    # Mettre à jour l'affichage\n",
    "    pygame.display.flip()\n",
    "\n",
    "    # Limiter les FPS à 60\n",
    "    clock.tick(60)\n",
    "\n",
    "pygame.quit()"
   ]
  },
  {
   "cell_type": "code",
   "execution_count": null,
   "id": "4d20389a-142b-4be8-9116-219bdcd82c1a",
   "metadata": {},
   "outputs": [],
   "source": []
  }
 ],
 "metadata": {
  "kernelspec": {
   "display_name": "Python 3 (ipykernel)",
   "language": "python",
   "name": "python3"
  },
  "language_info": {
   "codemirror_mode": {
    "name": "ipython",
    "version": 3
   },
   "file_extension": ".py",
   "mimetype": "text/x-python",
   "name": "python",
   "nbconvert_exporter": "python",
   "pygments_lexer": "ipython3",
   "version": "3.12.4"
  }
 },
 "nbformat": 4,
 "nbformat_minor": 5
}
